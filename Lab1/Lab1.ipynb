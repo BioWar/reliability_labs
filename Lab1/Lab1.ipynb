{
 "cells": [
  {
   "cell_type": "code",
   "execution_count": 1,
   "metadata": {},
   "outputs": [],
   "source": [
    "import pandas as pd\n",
    "import numpy as np\n",
    "import csv\n",
    "import matplotlib.pyplot as plt"
   ]
  },
  {
   "cell_type": "code",
   "execution_count": 2,
   "metadata": {},
   "outputs": [],
   "source": [
    "# data.csv\n",
    "# 58, 14, 23, 70, 297, 112, 237, 475, 279, 738, 134, 4, 120, 90, 401, 13, 405, 52, 1007, 19, 77, 12, 32, 259, 46, 518, 52, 0, 172, 512, 13, 1, 119, 128, 310, 131, 235, 284, 79, 16, 69, 18, 305, 461, 12, 93, 85, 348, 48, 146, 121, 39, 126, 415, 419, 28, 39, 516, 65, 2, 36, 192, 34, 21, 346, 622, 617, 59, 330, 580, 80, 6, 960, 234, 52, 438, 170, 75, 92, 340, 403, 177, 113, 55, 87, 51, 165, 58, 1271, 4, 51, 300, 48, 56, 112, 139, 22, 226, 127, 186\n",
    "# data_example.csv\n",
    "# 644, 1216, 2352, 1386, 1280, 903, 607, 2068, 4467, 835, 313, 555, 307, 508, 1386, 2895, 583, 292, 5159, 1107, 181, 18, 1247, 125, 1452, 4211, 890, 659, 1602, 2425, 214, 68, 21, 1762, 1118, 45, 1803, 1187, 2154, 19, 1122, 278, 1622, 702, 1396, 694, 45, 1739, 3483, 1334, 1852, 96, 173, 7443, 901, 2222, 4465, 18, 1968, 1426, 1424, 1146, 435, 1390, 246, 578, 281, 455, 609, 854, 436, 1762, 444, 466, 1934, 681, 4539, 164, 295, 1644, 711, 245, 740, 18, 474, 623, 462, 605, 187, 106, 793, 92, 296, 226, 63, 246, 446, 2234, 2491, 315"
   ]
  },
  {
   "cell_type": "code",
   "execution_count": 3,
   "metadata": {},
   "outputs": [
    {
     "name": "stdout",
     "output_type": "stream",
     "text": [
      "[INFO] Average T = 198.34\n",
      "[INFO] Hist val = [0.004406, 0.00118, 0.000865, 0.000629, 0.000472, 7.9e-05, 0.0, 0.000157, 0.0, 7.9e-05]\n",
      "[INFO] Hist bin = [0.0, 127.1, 254.2, 381.3, 508.4, 635.5, 762.6, 889.7, 1016.8, 1143.9, 1271.0]\n",
      "[INFO] Prob = [1.   0.44 0.29 0.18 0.1  0.04 0.03 0.03 0.01 0.01 0.  ]\n",
      "[INFO] T = 29.50535714285714\n",
      "[INFO] h = 127.1\n",
      "[INFO] P1 = 0.043162863886703415\n",
      "[INFO] P2 = 0.010000000000000016, idx2 = 8\n",
      "[INFO] Hist[idx] = 0.0\n",
      "[INFO] L = 0.0\n"
     ]
    },
    {
     "data": {
      "image/png": "[encoded data removed]",
      "text/plain": [
       "<Figure size 432x288 with 1 Axes>"
      ]
     },
     "metadata": {
      "needs_background": "light"
     },
     "output_type": "display_data"
    }
   ],
   "source": [
    "def count_P(hist, t):\n",
    "    P = 1\n",
    "    width = hist[1][1]\n",
    "    idx = 0\n",
    "    for f, h in zip(hist[0], hist[1]):\n",
    "        if h > t:\n",
    "            #print(f'[INFO] LValue:h = {round(h)};  P = {round(P, 6)}; substract = {f} * {abs(t - h)}')\n",
    "            P -= f * abs(t - h)\n",
    "            break\n",
    "        #print(f'[INFO] Value: h = {round(h)};  P = {round(P, 6)}; substract = {f} * {width}')\n",
    "        P -= width*f \n",
    "        idx += 1\n",
    "    return P, idx\n",
    "\n",
    "def count_lambda(hist, P, idx):\n",
    "    _lambda = hist[0][idx]/P\n",
    "    return _lambda\n",
    "    \n",
    "def get_average(data):\n",
    "    average = data.mean()\n",
    "    return average\n",
    "\n",
    "def read_file(filename):\n",
    "    with open(filename, newline='') as f:\n",
    "        reader = csv.reader(f)\n",
    "        data = list(reader)\n",
    "    data = np.array([int(x) for x in data[0]], dtype=\"int32\")\n",
    "    return data\n",
    "\n",
    "def get_hist(data, bins=10):\n",
    "    hist = plt.hist(data, bins=bins, density=True)\n",
    "    return hist\n",
    "\n",
    "def get_prob(hist):\n",
    "    prob = [1]\n",
    "    value = 1\n",
    "    h = hist[1][1]\n",
    "    for f in hist[0]:\n",
    "        value = round(value - f * h, 5)\n",
    "        prob.append(value)\n",
    "    return np.array(prob)        \n",
    "\n",
    "def count_T(bins_equal):\n",
    "    d_12 = (0.9 - y)/(0.9 - 0.44)\n",
    "    T_087 = 1 + h * d_12\n",
    "\n",
    "def make_lab(filename, y, t1, t2):\n",
    "    data = read_file(filename)\n",
    "    hist = get_hist(data, bins=np.arange(0, max(data)+1, max(data)/10))\n",
    "    average = get_average(data)\n",
    "    prob = get_prob(hist)\n",
    "    print(f'[INFO] Average T = {average}')\n",
    "    print(f'[INFO] Hist val = {[round(i, 6) for i in hist[0]]}')\n",
    "    print(f'[INFO] Hist bin = {[round(i, 5) for i in hist[1]]}')\n",
    "    print(f'[INFO] Prob = {prob}')\n",
    "    #bins_equal = np.array(np.arange(0, 1.1, 0.1)[::-1])\n",
    "    idx = None\n",
    "    for i, val in enumerate(prob):\n",
    "        if val < y:\n",
    "            idx = i - 1\n",
    "            break\n",
    "    d = (prob[idx] - y)/(prob[idx] - prob[idx+1])\n",
    "    h = hist[1][1]\n",
    "    T = hist[1][idx] + h * d\n",
    "    print(f'[INFO] T = {T}')\n",
    "    print(f'[INFO] h = {h}')\n",
    "    P1, idx1 = count_P(hist, t1)\n",
    "    P2, idx2 = count_P(hist, t2)\n",
    "    print(f'[INFO] P1 = {P1}')\n",
    "    print(f'[INFO] P2 = {P2}, idx2 = {idx2}')\n",
    "    print(f'[INFO] Hist[idx] = {hist[0][idx2]}')\n",
    "    _lambda = count_lambda(hist, P2, idx2)\n",
    "    print(f'[INFO] L = {_lambda}')\n",
    " \n",
    "filename = \"data.csv\"\n",
    "make_lab(filename, 0.87, 388, 1012)\n",
    "#make_lab(filename, 0.9, 2000, 2000)"
   ]
  },
  {
   "cell_type": "code",
   "execution_count": null,
   "metadata": {},
   "outputs": [],
   "source": []
  }
 ],
 "metadata": {
  "kernelspec": {
   "display_name": "Python 3",
   "language": "python",
   "name": "python3"
  },
  "language_info": {
   "codemirror_mode": {
    "name": "ipython",
    "version": 3
   },
   "file_extension": ".py",
   "mimetype": "text/x-python",
   "name": "python",
   "nbconvert_exporter": "python",
   "pygments_lexer": "ipython3",
   "version": "3.8.5"
  }
 },
 "nbformat": 4,
 "nbformat_minor": 4
}
